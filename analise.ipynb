{
 "cells": [
  {
   "cell_type": "code",
   "execution_count": null,
   "metadata": {},
   "outputs": [],
   "source": [
    "import numpy as np\n",
    "import pandas as pd\n",
    "import matplotlib.pyplot as plt\n",
    "import seaborn as sns\n",
    "import datetime as dt"
   ]
  },
  {
   "cell_type": "code",
   "execution_count": null,
   "metadata": {},
   "outputs": [],
   "source": [
    "#carregando dataset\n",
    "df = pd.read_csv('dados/dataset.csv')"
   ]
  },
  {
   "cell_type": "code",
   "execution_count": null,
   "metadata": {},
   "outputs": [],
   "source": [
    "# Amostra dos dados\n",
    "df.head()"
   ]
  },
  {
   "cell_type": "code",
   "execution_count": null,
   "metadata": {},
   "outputs": [],
   "source": [
    "#checagem inicial do dataframe \n",
    "df.info()"
   ]
  },
  {
   "cell_type": "code",
   "execution_count": null,
   "metadata": {},
   "outputs": [],
   "source": [
    "df[df.duplicated()]"
   ]
  },
  {
   "cell_type": "markdown",
   "metadata": {},
   "source": [
    "## Agora podemos começar algumas perguntas\n",
    "## Pergunta de Negócio 1:\n",
    "\n",
    "### Qual Cidade com Maior Valor de Venda de Produtos da Categoria 'Office Supplies'?"
   ]
  },
  {
   "cell_type": "code",
   "execution_count": null,
   "metadata": {},
   "outputs": [],
   "source": [
    "#Filtro de Categoria\n",
    "maior_valor_venda = df[df['Categoria'] == 'Office Supplies']"
   ]
  },
  {
   "cell_type": "code",
   "execution_count": null,
   "metadata": {},
   "outputs": [],
   "source": [
    "#agrupamento da info que quemos com groupby\n",
    "cidade_vendas_max= maior_valor_venda.groupby(['Cidade','Categoria'])['Valor_Venda'].sum()"
   ]
  },
  {
   "cell_type": "code",
   "execution_count": null,
   "metadata": {},
   "outputs": [],
   "source": [
    "#usando o idmax para encontar a cidade com mais vendas e depois printando a infromação\n",
    "maior_venda = cidade_vendas_max.idxmax()\n",
    "print(f\"Cidade com maior valor de venda para 'Office Supplies': {maior_venda}\")"
   ]
  },
  {
   "cell_type": "markdown",
   "metadata": {},
   "source": [
    "## Pergunta de Negócio 2:\n",
    "\n",
    "### Qual o Total de Vendas Por Ano?\n",
    "\n",
    "a partir daqui pra tornar tudo mais visivel vamos usar gráficos com matplotlib e seaborn"
   ]
  },
  {
   "cell_type": "code",
   "execution_count": null,
   "metadata": {},
   "outputs": [],
   "source": [
    "df.head()"
   ]
  },
  {
   "cell_type": "code",
   "execution_count": null,
   "metadata": {},
   "outputs": [],
   "source": [
    "#para responder essa vou utilizar o datetime para extrair o ano da coluna Data_Pedido e criar a cluna ano\n",
    "df['Data_Pedido'] = pd.to_datetime(df['Data_Pedido'], dayfirst=True)"
   ]
  },
  {
   "cell_type": "code",
   "execution_count": null,
   "metadata": {},
   "outputs": [],
   "source": [
    "#veficiando se o type foi modificado\n",
    "df.info()"
   ]
  },
  {
   "cell_type": "code",
   "execution_count": null,
   "metadata": {},
   "outputs": [],
   "source": [
    "#agora é so criar a tabela ano\n",
    "df['Ano'] = df['Data_Pedido'].dt.year"
   ]
  },
  {
   "cell_type": "code",
   "execution_count": null,
   "metadata": {},
   "outputs": [],
   "source": [
    "#verificando se a coluna foi criada\n",
    "df.head()"
   ]
  },
  {
   "cell_type": "code",
   "execution_count": null,
   "metadata": {},
   "outputs": [],
   "source": [
    "#com a coluna criada, agora é so agrupar\n",
    "total_vendas_ano = df.groupby('Ano')['Valor_Venda'].sum().reset_index()"
   ]
  },
  {
   "cell_type": "code",
   "execution_count": null,
   "metadata": {},
   "outputs": [],
   "source": [
    "total_vendas_ano"
   ]
  },
  {
   "cell_type": "code",
   "execution_count": null,
   "metadata": {},
   "outputs": [],
   "source": [
    "#agora vamos tornar isso visual, utilizando seaborn\n",
    "fig, ax = plt.subplots(figsize =(10,6))\n",
    "sns.barplot(data = total_vendas_ano, \n",
    "            y = 'Valor_Venda', \n",
    "            x = 'Ano',\n",
    "            estimator=\"sum\").set(title = 'Vendas Por Ano')\n",
    "ax.bar_label(ax.containers[0], fontsize=10)\n",
    "ax.set_ylabel('Valor em $')\n",
    "plt.show()"
   ]
  },
  {
   "cell_type": "markdown",
   "metadata": {},
   "source": [
    "\n",
    "\n",
    "## Pergunta de Negócio 3:\n",
    "\n",
    "### Qual o Total de Vendas por Estado?\n",
    "\n",
    "\n"
   ]
  },
  {
   "cell_type": "code",
   "execution_count": null,
   "metadata": {},
   "outputs": [],
   "source": [
    "df.head()"
   ]
  },
  {
   "cell_type": "code",
   "execution_count": null,
   "metadata": {},
   "outputs": [],
   "source": [
    "#novamente usar o groupby para agrupar\n",
    "vendas_estado = df.groupby('Estado')['Valor_Venda'].sum().reset_index()"
   ]
  },
  {
   "cell_type": "code",
   "execution_count": null,
   "metadata": {},
   "outputs": [],
   "source": [
    "vendas_estado.head()"
   ]
  },
  {
   "cell_type": "code",
   "execution_count": null,
   "metadata": {},
   "outputs": [],
   "source": [
    "#reaproveitando o codigo do grafico passado\n",
    "fig, ax = plt.subplots(figsize =(16,6))\n",
    "sns.barplot(data = vendas_estado, \n",
    "            y = 'Valor_Venda', \n",
    "            x = 'Estado',\n",
    "            estimator='sum'\n",
    "            ).set(title = 'Vendas por estado')\n",
    "plt.xticks(rotation = 80)\n",
    "ax.set_ylabel('Valor em $')\n",
    "plt.show()"
   ]
  },
  {
   "cell_type": "markdown",
   "metadata": {},
   "source": [
    "## Pergunta de Negócio 4:\n",
    "\n",
    "### Quais São as 10 Cidades com Maior Total de Vendas?\n",
    "\n"
   ]
  },
  {
   "cell_type": "code",
   "execution_count": null,
   "metadata": {},
   "outputs": [],
   "source": [
    "#mais uma vez o groupby\n",
    "vendas_cidade = df.groupby('Cidade')['Valor_Venda'].sum().reset_index().sort_values(by='Valor_Venda',ascending=False).head(10)"
   ]
  },
  {
   "cell_type": "code",
   "execution_count": null,
   "metadata": {},
   "outputs": [],
   "source": [
    "#reaproveitando o codigo do grafico passado\n",
    "fig, ax = plt.subplots(figsize =(16,6))\n",
    "sns.barplot(data = vendas_cidade, \n",
    "            y = 'Valor_Venda', \n",
    "            x = 'Cidade',\n",
    "            estimator='sum').set(title = 'As 10 Cidades com Maior Total de Vendas')\n",
    "ax.bar_label(ax.containers[0], fontsize=10)\n",
    "plt.xticks(rotation = 80)\n",
    "ax.set_ylabel('Valor em $')\n",
    "plt.show()"
   ]
  },
  {
   "cell_type": "markdown",
   "metadata": {},
   "source": [
    "## Pergunta de Negócio 5:\n",
    "\n",
    "### Qual Segmento Teve o Maior Total de Vendas?"
   ]
  },
  {
   "cell_type": "code",
   "execution_count": null,
   "metadata": {},
   "outputs": [],
   "source": [
    "# Agrupamos por segmento e calculamos o total de vendas\n",
    "maior_seg = df.groupby('Segmento')['Valor_Venda'].sum().reset_index().sort_values(by = 'Valor_Venda',\n",
    "                                                                                      ascending = False)"
   ]
  },
  {
   "cell_type": "code",
   "execution_count": null,
   "metadata": {},
   "outputs": [],
   "source": [
    "maior_seg"
   ]
  },
  {
   "cell_type": "code",
   "execution_count": null,
   "metadata": {},
   "outputs": [],
   "source": [
    "#como o valor está em numeros cientificos, precisamos de um função para mudar esse comportamente\n",
    "def autopct_format(values): \n",
    "    def my_format(pct): \n",
    "        total = sum(values) \n",
    "        val = int(round(pct * total / 100.0))\n",
    "        return ' $ {v:d}'.format(v = val)\n",
    "    return my_format"
   ]
  },
  {
   "cell_type": "code",
   "execution_count": null,
   "metadata": {},
   "outputs": [],
   "source": [
    "# faremos um grafico de pizza nesse já que são poucas categorias\n",
    "plt.figure(figsize = (16, 6))\n",
    "\n",
    "# Gráfico de pizza\n",
    "plt.pie(maior_seg['Valor_Venda'], \n",
    "        labels = maior_seg['Segmento'],\n",
    "        autopct = autopct_format(maior_seg['Valor_Venda']),\n",
    "        startangle = 90)\n",
    "plt.title('Vendas por categoria')\n",
    "\n",
    "plt.show()"
   ]
  }
 ],
 "metadata": {
  "kernelspec": {
   "display_name": "Python 3",
   "language": "python",
   "name": "python3"
  },
  "language_info": {
   "codemirror_mode": {
    "name": "ipython",
    "version": 3
   },
   "file_extension": ".py",
   "mimetype": "text/x-python",
   "name": "python",
   "nbconvert_exporter": "python",
   "pygments_lexer": "ipython3",
   "version": "3.12.2"
  }
 },
 "nbformat": 4,
 "nbformat_minor": 2
}
