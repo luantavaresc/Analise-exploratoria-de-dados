{
 "cells": [
  {
   "cell_type": "code",
   "execution_count": null,
   "metadata": {},
   "outputs": [],
   "source": [
    "import numpy as np\n",
    "import pandas as pd\n",
    "import matplotlib.pyplot as plt\n",
    "import seaborn as sns\n",
    "import datetime as dt"
   ]
  },
  {
   "cell_type": "code",
   "execution_count": null,
   "metadata": {},
   "outputs": [],
   "source": [
    "#carregando dataset\n",
    "df = pd.read_csv('dados/dataset.csv')"
   ]
  },
  {
   "cell_type": "code",
   "execution_count": null,
   "metadata": {},
   "outputs": [],
   "source": [
    "# Amostra dos dados\n",
    "df.head()"
   ]
  },
  {
   "cell_type": "code",
   "execution_count": null,
   "metadata": {},
   "outputs": [],
   "source": [
    "#checagem inicial do dataframe \n",
    "df.info()"
   ]
  },
  {
   "cell_type": "code",
   "execution_count": null,
   "metadata": {},
   "outputs": [],
   "source": [
    "df[df.duplicated()]"
   ]
  },
  {
   "cell_type": "markdown",
   "metadata": {},
   "source": [
    "## Agora podemos começar algumas perguntas\n",
    "## Pergunta de Negócio 1:\n",
    "\n",
    "### Qual Cidade com Maior Valor de Venda de Produtos da Categoria 'Office Supplies'?"
   ]
  },
  {
   "cell_type": "code",
   "execution_count": null,
   "metadata": {},
   "outputs": [],
   "source": [
    "#Filtro de Categoria\n",
    "maior_valor_venda = df[df['Categoria'] == 'Office Supplies']"
   ]
  },
  {
   "cell_type": "code",
   "execution_count": null,
   "metadata": {},
   "outputs": [],
   "source": [
    "#agrupamento da info que quemos com groupby\n",
    "cidade_vendas_max= maior_valor_venda.groupby(['Cidade','Categoria'])['Valor_Venda'].sum()"
   ]
  },
  {
   "cell_type": "code",
   "execution_count": null,
   "metadata": {},
   "outputs": [],
   "source": [
    "#usando o idmax para encontar a cidade com mais vendas e depois printando a infromação\n",
    "maior_venda = cidade_vendas_max.idxmax()\n",
    "print(f\"Cidade com maior valor de venda para 'Office Supplies': {maior_venda}\")"
   ]
  },
  {
   "cell_type": "markdown",
   "metadata": {},
   "source": [
    "## Pergunta de Negócio 2:\n",
    "\n",
    "### Qual o Total de Vendas Por Ano?\n",
    "\n",
    "a partir daqui pra tornar tudo mais visivel vamos usar gráficos com matplotlib e seaborn"
   ]
  },
  {
   "cell_type": "code",
   "execution_count": null,
   "metadata": {},
   "outputs": [],
   "source": [
    "df.head()"
   ]
  },
  {
   "cell_type": "code",
   "execution_count": null,
   "metadata": {},
   "outputs": [],
   "source": [
    "#para responder essa vou utilizar o datetime para extrair o ano da coluna Data_Pedido e criar a cluna ano\n",
    "df['Data_Pedido'] = pd.to_datetime(df['Data_Pedido'], dayfirst=True)"
   ]
  },
  {
   "cell_type": "code",
   "execution_count": null,
   "metadata": {},
   "outputs": [],
   "source": [
    "#veficiando se o type foi modificado\n",
    "df.info()"
   ]
  },
  {
   "cell_type": "code",
   "execution_count": null,
   "metadata": {},
   "outputs": [],
   "source": [
    "#agora é so criar a tabela ano\n",
    "df['Ano'] = df['Data_Pedido'].dt.year"
   ]
  },
  {
   "cell_type": "code",
   "execution_count": null,
   "metadata": {},
   "outputs": [],
   "source": [
    "#verificando se a coluna foi criada\n",
    "df.head()"
   ]
  },
  {
   "cell_type": "code",
   "execution_count": null,
   "metadata": {},
   "outputs": [],
   "source": [
    "#com a coluna criada, agora é so agrupar\n",
    "total_vendas_ano = df.groupby('Ano')['Valor_Venda'].sum().reset_index()"
   ]
  },
  {
   "cell_type": "code",
   "execution_count": null,
   "metadata": {},
   "outputs": [],
   "source": [
    "total_vendas_ano"
   ]
  },
  {
   "cell_type": "code",
   "execution_count": null,
   "metadata": {},
   "outputs": [],
   "source": [
    "#agora vamos tornar isso visual, utilizando seaborn\n",
    "fig, ax = plt.subplots(figsize =(10,6))\n",
    "sns.barplot(data = total_vendas_ano, \n",
    "            y = 'Valor_Venda', \n",
    "            x = 'Ano',\n",
    "            estimator=\"sum\").set(title = 'Vendas Por Ano')\n",
    "ax.bar_label(ax.containers[0], fontsize=10)\n",
    "ax.set_ylabel('Valor em $')\n",
    "plt.show()"
   ]
  },
  {
   "cell_type": "markdown",
   "metadata": {},
   "source": [
    "\n",
    "\n",
    "## Pergunta de Negócio 3:\n",
    "\n",
    "### Qual o Total de Vendas por Estado?\n",
    "\n",
    "\n"
   ]
  },
  {
   "cell_type": "code",
   "execution_count": null,
   "metadata": {},
   "outputs": [],
   "source": [
    "df.head()"
   ]
  },
  {
   "cell_type": "code",
   "execution_count": null,
   "metadata": {},
   "outputs": [],
   "source": [
    "#novamente usar o groupby para agrupar\n",
    "vendas_estado = df.groupby('Estado')['Valor_Venda'].sum().reset_index()"
   ]
  },
  {
   "cell_type": "code",
   "execution_count": null,
   "metadata": {},
   "outputs": [],
   "source": [
    "vendas_estado.head()"
   ]
  },
  {
   "cell_type": "code",
   "execution_count": null,
   "metadata": {},
   "outputs": [],
   "source": [
    "#reaproveitando o codigo do grafico passado\n",
    "fig, ax = plt.subplots(figsize =(16,6))\n",
    "sns.barplot(data = vendas_estado, \n",
    "            y = 'Valor_Venda', \n",
    "            x = 'Estado',\n",
    "            estimator='sum'\n",
    "            ).set(title = 'Vendas por estado')\n",
    "plt.xticks(rotation = 80)\n",
    "ax.set_ylabel('Valor em $')\n",
    "plt.show()"
   ]
  },
  {
   "cell_type": "markdown",
   "metadata": {},
   "source": [
    "## Pergunta de Negócio 4:\n",
    "\n",
    "### Quais São as 10 Cidades com Maior Total de Vendas?\n",
    "\n"
   ]
  },
  {
   "cell_type": "code",
   "execution_count": null,
   "metadata": {},
   "outputs": [],
   "source": [
    "#mais uma vez o groupby\n",
    "vendas_cidade = df.groupby('Cidade')['Valor_Venda'].sum().reset_index().sort_values(by='Valor_Venda',ascending=False).head(10)"
   ]
  },
  {
   "cell_type": "code",
   "execution_count": null,
   "metadata": {},
   "outputs": [],
   "source": [
    "#reaproveitando o codigo do grafico passado\n",
    "fig, ax = plt.subplots(figsize =(16,6))\n",
    "sns.barplot(data = vendas_cidade, \n",
    "            y = 'Valor_Venda', \n",
    "            x = 'Cidade',\n",
    "            estimator='sum').set(title = 'As 10 Cidades com Maior Total de Vendas')\n",
    "ax.bar_label(ax.containers[0], fontsize=10)\n",
    "plt.xticks(rotation = 80)\n",
    "ax.set_ylabel('Valor em $')\n",
    "plt.show()"
   ]
  },
  {
   "cell_type": "markdown",
   "metadata": {},
   "source": [
    "## Pergunta de Negócio 5:\n",
    "\n",
    "### Qual Segmento Teve o Maior Total de Vendas?"
   ]
  },
  {
   "cell_type": "code",
   "execution_count": null,
   "metadata": {},
   "outputs": [],
   "source": [
    "# Agrupamos por segmento e calculamos o total de vendas\n",
    "maior_seg = df.groupby('Segmento')['Valor_Venda'].sum().reset_index().sort_values(by = 'Valor_Venda',\n",
    "                                                                                      ascending = False)"
   ]
  },
  {
   "cell_type": "code",
   "execution_count": null,
   "metadata": {},
   "outputs": [],
   "source": [
    "maior_seg"
   ]
  },
  {
   "cell_type": "code",
   "execution_count": null,
   "metadata": {},
   "outputs": [],
   "source": [
    "#como o valor está em numeros cientificos, precisamos de um função para mudar esse comportamente\n",
    "def autopct_format(values): \n",
    "    def my_format(pct): \n",
    "        total = sum(values) \n",
    "        val = int(round(pct * total / 100.0))\n",
    "        return ' $ {v:d}'.format(v = val)\n",
    "    return my_format"
   ]
  },
  {
   "cell_type": "code",
   "execution_count": null,
   "metadata": {},
   "outputs": [],
   "source": [
    "# faremos um grafico de pizza nesse já que são poucas categorias\n",
    "plt.figure(figsize = (16, 6))\n",
    "\n",
    "# Gráfico de pizza\n",
    "plt.pie(maior_seg['Valor_Venda'], \n",
    "        labels = maior_seg['Segmento'],\n",
    "        autopct = autopct_format(maior_seg['Valor_Venda']),\n",
    "        startangle = 90)\n",
    "plt.title('Vendas por categoria')\n",
    "\n",
    "plt.show()"
   ]
  },
  {
   "cell_type": "code",
   "execution_count": null,
   "metadata": {},
   "outputs": [],
   "source": [
    "## Pergunta de Negócio 6 \n",
    "\n",
    "### Qual o Total de Vendas Por Segmento e Por Ano?"
   ]
  },
  {
   "cell_type": "code",
   "execution_count": null,
   "metadata": {},
   "outputs": [],
   "source": [
    "df.head()"
   ]
  },
  {
   "cell_type": "code",
   "execution_count": null,
   "metadata": {},
   "outputs": [],
   "source": [
    "venda_seg_ano = df.groupby(['Segmento','Ano'])['Valor_Venda'].sum().reset_index()"
   ]
  },
  {
   "cell_type": "code",
   "execution_count": null,
   "metadata": {},
   "outputs": [],
   "source": [
    "venda_seg_ano"
   ]
  },
  {
   "cell_type": "code",
   "execution_count": null,
   "metadata": {},
   "outputs": [],
   "source": [
    "#aproveitando um gráfico de outro projeto que tenho no github para plotar o resultado dos 3 anos\n",
    "#dando ênfase ao maior valor\n",
    "fig,ax = plt.subplots(figsize=(16,6))\n",
    "\n",
    "wid = 0.2\n",
    "\n",
    "ax.bar(venda_seg_ano[venda_seg_ano['Segmento'] == 'Consumer'].Ano.values-wid,venda_seg_ano[venda_seg_ano['Segmento'] == 'Consumer'].Valor_Venda.values,\n",
    "       color = '#00c698',label='Consumer',width=wid,)\n",
    "ax.bar(venda_seg_ano[venda_seg_ano['Segmento'] == 'Corporate'].Ano.values,venda_seg_ano[venda_seg_ano['Segmento'] == 'Corporate'].Valor_Venda.values,\n",
    "       color = '#00a9b5',label='Corporate',width=wid)\n",
    "ax.bar(venda_seg_ano[venda_seg_ano['Segmento'] == 'Home Office'].Ano.values+wid,venda_seg_ano[venda_seg_ano['Segmento'] == 'Home Office'].Valor_Venda.values,\n",
    "       color = '#008ac5',label='Home Office',width=wid)\n",
    "ax.bar_label(ax.containers[0],fontsize=10)\n",
    "\n",
    "ax.xaxis.set_ticks([2015,2016,2017,2018])\n",
    "\n",
    "ax.legend()\n",
    "\n",
    "plt.show()"
   ]
  },
  {
   "cell_type": "markdown",
   "metadata": {},
   "source": [
    "## Pergunta de Negócio 7 \n",
    "### Seguindo as condições abaixo, quantas Vendas Receberiam 15% de Desconto?\n",
    "\n",
    "- Se o Valor_Venda for maior que 1000 recebe 15% de desconto.\n",
    "- Se o Valor_Venda for menor que 1000 recebe 10% de desconto.\n",
    "\n"
   ]
  },
  {
   "cell_type": "code",
   "execution_count": null,
   "metadata": {},
   "outputs": [],
   "source": [
    "#podemos contar os valores a partir do value counts,porem não temos a coluna ainda, por isso precisamos criar\n",
    "#uma forma simples de aplicar essa condição é usando o np.where, que é um if e else basicamente"
   ]
  },
  {
   "cell_type": "code",
   "execution_count": null,
   "metadata": {},
   "outputs": [],
   "source": [
    "df[\"Desconto\"] = np.where(df[\"Valor_Venda\"] > 1000, 0.15, 0.10)"
   ]
  },
  {
   "cell_type": "code",
   "execution_count": null,
   "metadata": {},
   "outputs": [],
   "source": [
    "#verificando se a tabela foi criada\n",
    "df.head()"
   ]
  },
  {
   "cell_type": "code",
   "execution_count": null,
   "metadata": {},
   "outputs": [],
   "source": [
    "#agora podemos usar o loc para localizar no dataframe exatamente as linhas que cumprem o requisito\n",
    "# e depois usar o len(), pra ter a resposta em forma de int\n",
    "total = df.loc[df['Desconto'] == 0.15].__len__()\n",
    "print(f'o total de vendas que receberia 15% de desconto é de {total}')"
   ]
  },
  {
   "cell_type": "markdown",
   "metadata": {},
   "source": [
    "## Pergunta de Negócio 8:\n",
    "\n",
    "### Qual o Média de Vendas Por Segmento, Por Ano e Por Mês?\n"
   ]
  },
  {
   "cell_type": "code",
   "execution_count": null,
   "metadata": {},
   "outputs": [],
   "source": [
    "df.head()"
   ]
  },
  {
   "cell_type": "code",
   "execution_count": null,
   "metadata": {},
   "outputs": [],
   "source": [
    "#criando a tabela mÊs ja que não temos\n",
    "df['Mes'] = df['Data_Pedido'].dt.month"
   ]
  },
  {
   "cell_type": "code",
   "execution_count": null,
   "metadata": {},
   "outputs": [],
   "source": [
    "#verificando se foi criada\n",
    "df.head()"
   ]
  },
  {
   "cell_type": "code",
   "execution_count": null,
   "metadata": {},
   "outputs": [],
   "source": [
    "#agora é só agupar com groupby e tirar sua média, aqui vou colocar a soma e mediana tambem  pra treinar a func agg\n",
    "df_media = df.groupby(['Ano', 'Mes', 'Segmento'])['Valor_Venda'].agg(['sum','mean','median'])"
   ]
  },
  {
   "cell_type": "code",
   "execution_count": null,
   "metadata": {},
   "outputs": [],
   "source": [
    "df_media"
   ]
  },
  {
   "cell_type": "markdown",
   "metadata": {},
   "source": [
    "## FIM POR ENQUANTO"
   ]
  }
 ],
 "metadata": {
  "kernelspec": {
   "display_name": "Python 3",
   "language": "python",
   "name": "python3"
  },
  "language_info": {
   "codemirror_mode": {
    "name": "ipython",
    "version": 3
   },
   "file_extension": ".py",
   "mimetype": "text/x-python",
   "name": "python",
   "nbconvert_exporter": "python",
   "pygments_lexer": "ipython3",
   "version": "3.12.2"
  }
 },
 "nbformat": 4,
 "nbformat_minor": 2
}
